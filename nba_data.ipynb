{
 "cells": [
  {
   "cell_type": "code",
   "execution_count": 85,
   "id": "3b89f94b",
   "metadata": {},
   "outputs": [],
   "source": [
    "## Importing all the required packages\n",
    "from bs4 import BeautifulSoup\n",
    "import requests\n",
    "import pandas as pd\n",
    "import numpy as np\n",
    "from selenium import webdriver\n",
    "from selenium.webdriver.support.ui import Select\n",
    "import time, os\n",
    "chromedriver = \"/Users/yanshen/Desktop/PhD_UIUC/micro_landscope/chromedriver\"\n",
    "os.environ[\"webdriver.chrome.driver\"] = chromedriver"
   ]
  },
  {
   "cell_type": "code",
   "execution_count": 215,
   "id": "04bb4a56",
   "metadata": {},
   "outputs": [],
   "source": [
    "# seasons\n",
    "years = np.linspace(2017,2022,6,dtype=int)"
   ]
  },
  {
   "cell_type": "code",
   "execution_count": 110,
   "id": "b90499e5",
   "metadata": {},
   "outputs": [],
   "source": [
    "# team information on NBA.com\n",
    "data = [['ATL', '1610612737'], \n",
    "        ['BOS', '1610612738'], \n",
    "        ['BKN', '1610612751'], \n",
    "        ['CHA', '1610612766'], \n",
    "        ['CHI', '1610612741'],\n",
    "        ['CLE', '1610612739'],\n",
    "        ['DAL', '1610612742'], \n",
    "        ['DEN', '1610612743'], \n",
    "        ['DET', '1610612765'], \n",
    "        ['GSW', '1610612744'], \n",
    "        ['HOU', '1610612745'], \n",
    "        ['IND', '1610612754'], \n",
    "        ['LAC', '1610612746'], \n",
    "        ['LAL', '1610612747'], \n",
    "        ['MEM', '1610612763'], \n",
    "        ['MIA', '1610612748'], \n",
    "        ['MIL', '1610612749'], \n",
    "        ['MIN', '1610612750'], \n",
    "        ['NOP', '1610612740'], \n",
    "        ['NYK', '1610612752'], \n",
    "        ['OKC', '1610612760'], \n",
    "        ['ORL', '1610612753'], \n",
    "        ['PHI', '1610612755'], \n",
    "        ['PHX', '1610612756'], \n",
    "        ['POR', '1610612757'], \n",
    "        ['SAC', '1610612758'], \n",
    "        ['SAS', '1610612759'], \n",
    "        ['TOR', '1610612761'], \n",
    "        ['UTA', '1610612762'], \n",
    "        ['WAS', '1610612764']]"
   ]
  },
  {
   "cell_type": "code",
   "execution_count": 190,
   "id": "a25d1fa5",
   "metadata": {},
   "outputs": [],
   "source": [
    "teamid = pd.DataFrame(data, columns=['Team', 'ID'])"
   ]
  },
  {
   "cell_type": "code",
   "execution_count": 217,
   "id": "e4b94e85",
   "metadata": {
    "scrolled": false
   },
   "outputs": [
    {
     "name": "stderr",
     "output_type": "stream",
     "text": [
      "/var/folders/_g/7z87_5x96m156yzvnvlfh5br0000gn/T/ipykernel_82581/2631028809.py:4: DeprecationWarning: executable_path has been deprecated, please pass in a Service object\n",
      "  driver = webdriver.Chrome(chromedriver)\n",
      "/var/folders/_g/7z87_5x96m156yzvnvlfh5br0000gn/T/ipykernel_82581/2631028809.py:7: DeprecationWarning: find_element_by_* commands are deprecated. Please use find_element() instead\n",
      "  select = Select(driver.find_element_by_xpath(r\"/html/body/div[1]/div[2]/div[2]/div[3]/section[2]/div/div[2]/div[2]/div[1]/div[3]/div/label/div/select\"))\n"
     ]
    }
   ],
   "source": [
    "# 5 lineups data per 100 possessions\n",
    "for year in years:\n",
    "    for team in range(30):\n",
    "        url = \"https://www.nba.com/stats/lineups/traditional?slug=traditional&Season=\"+str(year)+\"-\"+str(year+1)[-2:]+\"&TeamID=\"+str(teamid['ID'].tolist()[team])+\"&PerMode=Per100Possessions&GroupQuantity=5\"\n",
    "        driver = webdriver.Chrome(chromedriver)\n",
    "        driver.get(url)\n",
    "        time.sleep(5)\n",
    "        # select page in 'all'\n",
    "        select = Select(driver.find_element_by_xpath(r\"/html/body/div[1]/div[2]/div[2]/div[3]/section[2]/div/div[2]/div[2]/div[1]/div[3]/div/label/div/select\"))\n",
    "        select.select_by_index(0)\n",
    "        time.sleep(5)\n",
    "        # find the table\n",
    "        src = driver.page_source\n",
    "        parser = BeautifulSoup(src, \"lxml\")\n",
    "        table = parser.find(\"div\", attrs={\"class\", \"Crom_container__C45Ti\"})\n",
    "        # clean the table\n",
    "        headers = table.findAll('th')\n",
    "        headerlist = [h.text.strip() for h in headers]\n",
    "        rows = table.findAll('tr')\n",
    "        players_stats = [[td.getText().strip() for td in rows[i].findAll('td')] for i in range(len(rows))]\n",
    "        stats = pd.DataFrame(players_stats, columns = headerlist)\n",
    "        df = stats.iloc[1:]\n",
    "        df.to_csv('data/'+str(teamid['Team'].tolist()[team]) + '_' + str(year)+'_100poss.csv')"
   ]
  },
  {
   "cell_type": "code",
   "execution_count": 214,
   "id": "962da813",
   "metadata": {},
   "outputs": [
    {
     "name": "stderr",
     "output_type": "stream",
     "text": [
      "/var/folders/_g/7z87_5x96m156yzvnvlfh5br0000gn/T/ipykernel_82581/1051872985.py:4: DeprecationWarning: executable_path has been deprecated, please pass in a Service object\n",
      "  driver = webdriver.Chrome(chromedriver)\n",
      "/var/folders/_g/7z87_5x96m156yzvnvlfh5br0000gn/T/ipykernel_82581/1051872985.py:7: DeprecationWarning: find_element_by_* commands are deprecated. Please use find_element() instead\n",
      "  select = Select(driver.find_element_by_xpath(r\"/html/body/div[1]/div[2]/div[2]/div[3]/section[2]/div/div[2]/div[2]/div[1]/div[3]/div/label/div/select\"))\n"
     ]
    }
   ],
   "source": [
    "# remedy codes for interrupted network\n",
    "year = 2016\n",
    "for team in range(26,30):\n",
    "        url = \"https://www.nba.com/stats/lineups/traditional?slug=traditional&Season=\"+str(year)+\"-\"+str(year+1)[-2:]+\"&TeamID=\"+str(teamid['ID'].tolist()[team])+\"&PerMode=Per100Possessions&GroupQuantity=5\"\n",
    "        driver = webdriver.Chrome(chromedriver)\n",
    "        driver.get(url)\n",
    "        time.sleep(5)\n",
    "        select = Select(driver.find_element_by_xpath(r\"/html/body/div[1]/div[2]/div[2]/div[3]/section[2]/div/div[2]/div[2]/div[1]/div[3]/div/label/div/select\"))\n",
    "        select.select_by_index(0)\n",
    "        time.sleep(5)\n",
    "        src = driver.page_source\n",
    "        parser = BeautifulSoup(src, \"lxml\")\n",
    "        table = parser.find(\"div\", attrs={\"class\", \"Crom_container__C45Ti\"})\n",
    "        headers = table.findAll('th')\n",
    "        headerlist = [h.text.strip() for h in headers]\n",
    "        rows = table.findAll('tr')\n",
    "        players_stats = [[td.getText().strip() for td in rows[i].findAll('td')] for i in range(len(rows))]\n",
    "        stats = pd.DataFrame(players_stats, columns = headerlist)\n",
    "        df = stats.iloc[1:]\n",
    "        df.to_csv('data/'+str(teamid['Team'].tolist()[team]) + '_' + str(year)+'_100poss.csv')"
   ]
  }
 ],
 "metadata": {
  "kernelspec": {
   "display_name": "Python 3 (ipykernel)",
   "language": "python",
   "name": "python3"
  },
  "language_info": {
   "codemirror_mode": {
    "name": "ipython",
    "version": 3
   },
   "file_extension": ".py",
   "mimetype": "text/x-python",
   "name": "python",
   "nbconvert_exporter": "python",
   "pygments_lexer": "ipython3",
   "version": "3.9.7"
  }
 },
 "nbformat": 4,
 "nbformat_minor": 5
}
